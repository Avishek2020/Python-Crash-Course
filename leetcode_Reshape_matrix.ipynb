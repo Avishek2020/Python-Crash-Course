{
  "nbformat": 4,
  "nbformat_minor": 0,
  "metadata": {
    "colab": {
      "provenance": [],
      "authorship_tag": "ABX9TyPJFVzynOWI44rRmr41pWnw",
      "include_colab_link": true
    },
    "kernelspec": {
      "name": "python3",
      "display_name": "Python 3"
    },
    "language_info": {
      "name": "python"
    }
  },
  "cells": [
    {
      "cell_type": "markdown",
      "metadata": {
        "id": "view-in-github",
        "colab_type": "text"
      },
      "source": [
        "<a href=\"https://colab.research.google.com/github/Avishek2020/Python-Crash-Course/blob/master/leetcode_Reshape_matrix.ipynb\" target=\"_parent\"><img src=\"https://colab.research.google.com/assets/colab-badge.svg\" alt=\"Open In Colab\"/></a>"
      ]
    },
    {
      "cell_type": "markdown",
      "source": [
        "## Reshape Matrix"
      ],
      "metadata": {
        "id": "3LWq7mR5OXuL"
      }
    },
    {
      "cell_type": "code",
      "source": [
        "import numpy as np\n",
        "from typing import List\n",
        "\n",
        "class Solution:\n",
        "    def matrixReshape(self, mat: List[List[int]], r: int, c: int) -> List[List[int]]:\n",
        "        try:\n",
        "            # Convert the input list of lists to a NumPy array.\n",
        "            original_array = np.array(mat)\n",
        "\n",
        "            # Check if the reshape operation is valid.\n",
        "            # The total number of elements must be the same.\n",
        "            # original_array.size gives the total number of elements.\n",
        "            if original_array.size != r * c:\n",
        "                # If the dimensions don't match, it's an invalid operation.\n",
        "                # As per the problem description, return the original matrix.\n",
        "                return mat\n",
        "\n",
        "            # If the dimensions are valid, reshape the array.\n",
        "            # The reshape() method returns a new array with the specified dimensions.\n",
        "            reshaped_array = original_array.reshape(r, c)\n",
        "\n",
        "            # The problem requires the output to be a list of lists,\n",
        "            # so we convert the NumPy array back to that format.\n",
        "            return reshaped_array.tolist()\n",
        "\n",
        "        except ValueError:\n",
        "            # This is a fallback, for example, if the input `mat` is not a valid matrix.\n",
        "            # The primary check (original_array.size != r * c) should handle most cases.\n",
        "            return mat\n",
        "\n",
        "# Example Usage from the problem description:\n",
        "# Create an instance of the Solution class\n",
        "s = Solution()\n",
        "\n",
        "# --- Example 1 ---\n",
        "mat1 = [[1, 2], [3, 4]]\n",
        "r1, c1 = 1, 4\n",
        "output1 = s.matrixReshape(mat1, r1, c1)\n",
        "print(f\"Input: mat = {mat1}, r = {r1}, c = {c1}\")\n",
        "print(f\"Output: {output1}\") # Expected: [[1, 2, 3, 4]]\n",
        "print(\"-\" * 44)\n",
        "\n",
        "\n",
        "# --- Example 2 ---\n",
        "mat2 = [[1, 2], [3, 4]]\n",
        "r2, c2 = 2, 4\n",
        "output2 = s.matrixReshape(mat2, r2, c2)\n",
        "print(f\"Input: mat = {mat2}, r = {r2}, c = {c2}\")\n",
        "print(f\"Output: {output2}\") # Expected: [[1, 2], [3, 4]]\n",
        "print(\"-\" * 44)\n"
      ],
      "metadata": {
        "colab": {
          "base_uri": "https://localhost:8080/"
        },
        "id": "Eww7_4Ie71rV",
        "outputId": "a4ecede3-19b1-4da9-914e-9f69b5e2fe5c"
      },
      "execution_count": 37,
      "outputs": [
        {
          "output_type": "stream",
          "name": "stdout",
          "text": [
            "Input: mat = [[1, 2], [3, 4]], r = 1, c = 4\n",
            "Output: [[1, 2, 3, 4]]\n",
            "--------------------------------------------\n",
            "Input: mat = [[1, 2], [3, 4]], r = 2, c = 4\n",
            "Output: [[1, 2], [3, 4]]\n",
            "--------------------------------------------\n"
          ]
        }
      ]
    }
  ]
}