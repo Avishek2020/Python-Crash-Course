{
  "nbformat": 4,
  "nbformat_minor": 0,
  "metadata": {
    "colab": {
      "name": "CLasses and Object.ipynb",
      "provenance": [],
      "authorship_tag": "ABX9TyPiYByGwg76mG6dGYX8xcbE",
      "include_colab_link": true
    },
    "kernelspec": {
      "name": "python3",
      "display_name": "Python 3"
    }
  },
  "cells": [
    {
      "cell_type": "markdown",
      "metadata": {
        "id": "view-in-github",
        "colab_type": "text"
      },
      "source": [
        "<a href=\"https://colab.research.google.com/github/Avishek2020/Python-Crash-Course/blob/master/CLasses_and_Object.ipynb\" target=\"_parent\"><img src=\"https://colab.research.google.com/assets/colab-badge.svg\" alt=\"Open In Colab\"/></a>"
      ]
    },
    {
      "cell_type": "code",
      "metadata": {
        "id": "p5eCreuKJPow",
        "colab_type": "code",
        "colab": {}
      },
      "source": [
        "class Robot:\n",
        "    def __init__(self, name, color, weight):\n",
        "        self.name = name\n",
        "        self.color = color\n",
        "        self.weight = weight\n",
        "\n",
        "    def introduce_self(self):\n",
        "        print(\"My name is \" + self.name)\n",
        "   "
      ],
      "execution_count": 1,
      "outputs": []
    },
    {
      "cell_type": "code",
      "metadata": {
        "id": "jpoassNNJPyM",
        "colab_type": "code",
        "colab": {}
      },
      "source": [
        "# r1 = Robot()\n",
        "# r1.name = \"Tom\"\n",
        "# r1.color =\"red\"\n",
        "# r1.weight = 30\n",
        "\n",
        "# r2 = Robot()\n",
        "# r2.name = \"Jerry\"\n",
        "# r2.color =\"blue\"\n",
        "# r2.weight = 40\n",
        "\n",
        "r1 = Robot(\"Tom\", \"red\", 30)\n",
        "r2 = Robot(\"Jerry\", \"blue\", 40)"
      ],
      "execution_count": 2,
      "outputs": []
    },
    {
      "cell_type": "code",
      "metadata": {
        "id": "d2WG4E5mJPu3",
        "colab_type": "code",
        "colab": {
          "base_uri": "https://localhost:8080/",
          "height": 51
        },
        "outputId": "cad0a0c7-f8d2-453a-8a80-52176dff34d5"
      },
      "source": [
        "r1.introduce_self()\n",
        "r2.introduce_self()"
      ],
      "execution_count": 3,
      "outputs": [
        {
          "output_type": "stream",
          "text": [
            "My name is Tom\n",
            "My name is Jerry\n"
          ],
          "name": "stdout"
        }
      ]
    },
    {
      "cell_type": "code",
      "metadata": {
        "id": "_HswqD2WtyZZ",
        "colab_type": "code",
        "colab": {}
      },
      "source": [
        "class Person:\n",
        "    def __init__(self, name, personality, sitting):\n",
        "        self.name = name\n",
        "        self.personality = personality\n",
        "        self.is_sitting = sitting\n",
        "\n",
        "    def sit_down(self):\n",
        "        self.is_sitting = True\n",
        "\n",
        "    def stand_up(self):\n",
        "        self.is_sitting= False\n",
        "        "
      ],
      "execution_count": 4,
      "outputs": []
    },
    {
      "cell_type": "code",
      "metadata": {
        "id": "iQWVd1_Vuda8",
        "colab_type": "code",
        "colab": {}
      },
      "source": [
        "p1 = Person(\"Alice\", \"aggressive\", False)\n",
        "p2 = Person(\"Becky\", \"talkative\", True)"
      ],
      "execution_count": 5,
      "outputs": []
    },
    {
      "cell_type": "code",
      "metadata": {
        "id": "OwkU9h0ludjN",
        "colab_type": "code",
        "colab": {}
      },
      "source": [
        "# p1 owns r2\n",
        "p1.robot_owned = r2\n",
        "p2.robot_owned = r1\n"
      ],
      "execution_count": 6,
      "outputs": []
    },
    {
      "cell_type": "code",
      "metadata": {
        "id": "VJ2u0zjAvakk",
        "colab_type": "code",
        "colab": {
          "base_uri": "https://localhost:8080/",
          "height": 34
        },
        "outputId": "5a084b00-785e-46ce-8600-cb1a6a3ca7bd"
      },
      "source": [
        "p1.robot_owned.introduce_self()"
      ],
      "execution_count": 7,
      "outputs": [
        {
          "output_type": "stream",
          "text": [
            "My name is Jerry\n"
          ],
          "name": "stdout"
        }
      ]
    },
    {
      "cell_type": "code",
      "metadata": {
        "id": "6qdQlmrevauf",
        "colab_type": "code",
        "colab": {}
      },
      "source": [
        ""
      ],
      "execution_count": 7,
      "outputs": []
    }
  ]
}