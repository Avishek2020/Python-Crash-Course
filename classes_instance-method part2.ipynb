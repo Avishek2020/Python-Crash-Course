{
  "nbformat": 4,
  "nbformat_minor": 0,
  "metadata": {
    "colab": {
      "name": "classes-instance.ipynb",
      "provenance": [],
      "authorship_tag": "ABX9TyPjOn1ZaWjiXkuoFdlN08Fh",
      "include_colab_link": true
    },
    "kernelspec": {
      "name": "python3",
      "display_name": "Python 3"
    }
  },
  "cells": [
    {
      "cell_type": "markdown",
      "metadata": {
        "id": "view-in-github",
        "colab_type": "text"
      },
      "source": [
        "<a href=\"https://colab.research.google.com/github/Avishek2020/Python-Crash-Course/blob/master/classes_instance-method%20part2.ipynb\" target=\"_parent\"><img src=\"https://colab.research.google.com/assets/colab-badge.svg\" alt=\"Open In Colab\"/></a>"
      ]
    },
    {
      "cell_type": "code",
      "metadata": {
        "id": "D7y7-xsZF-Kf"
      },
      "source": [
        "# https://www.youtube.com/watch?v=rq8cL2XMM5M\n",
        "# https://www.tutorialspoint.com/python/python_classes_objects.htm"
      ],
      "execution_count": null,
      "outputs": []
    },
    {
      "cell_type": "markdown",
      "metadata": {
        "id": "K8wqz27YNZn3"
      },
      "source": [
        "### Classes and Objects"
      ]
    },
    {
      "cell_type": "code",
      "metadata": {
        "colab": {
          "base_uri": "https://localhost:8080/"
        },
        "id": "Fr-3DZUasK1I",
        "outputId": "adb958c7-0fff-4af5-f80b-af3267a08bb7"
      },
      "source": [
        "class employee:\n",
        "\n",
        "  # class variable\n",
        "  raise_amount = 1.04\n",
        "  num_of_emps = 0\n",
        "\n",
        "\n",
        "  def __init__(self, name, lname, pay):\n",
        "    # Instance Variables are define by self.\n",
        "    self.name = name\n",
        "    self.lname = lname\n",
        "    self.pay = pay \n",
        "    employee.num_of_emps += 1\n",
        "\n",
        "  def fullname(self):\n",
        "    return '{} {}'.format(self.name, self.lname)\n",
        "\n",
        "  def apply_raise(self):\n",
        "    self.pay = int(self.pay * self.raise_amount)\n",
        "\n",
        "  \n",
        "print(\"Total no of employee: \", employee.num_of_emps)\n",
        "\n",
        "e1 = employee('John', 'Doe', 50000)\n",
        "\n",
        "e2= employee('N', 'M', 52000)\n",
        "\n",
        "print(\"Total no of employee: \", employee.num_of_emps)\n",
        "\n",
        "e1.raise_amount = 1.05\n",
        "print(e1.fullname())\n",
        "print(e1.raise_amount)\n",
        "print(e1.pay)\n",
        "e1.apply_raise()\n",
        "print(e1.pay)\n",
        "print(e1.__dict__)\n",
        "\n",
        "print()\n",
        "print(e2.raise_amount)\n",
        "e2.apply_raise()\n",
        "print(e2.pay)\n",
        "print(e2.__dict__)\n"
      ],
      "execution_count": null,
      "outputs": [
        {
          "output_type": "stream",
          "text": [
            "Total no of employee:  0\n",
            "Total no of employee:  2\n",
            "John Doe\n",
            "1.05\n",
            "50000\n",
            "52500\n",
            "{'name': 'John', 'lname': 'Doe', 'pay': 52500, 'raise_amount': 1.05}\n",
            "\n",
            "1.04\n",
            "54080\n",
            "{'name': 'N', 'lname': 'M', 'pay': 54080}\n"
          ],
          "name": "stdout"
        }
      ]
    },
    {
      "cell_type": "markdown",
      "metadata": {
        "id": "iiQuUICXHNxg"
      },
      "source": [
        "### Regular method / class method / static method"
      ]
    },
    {
      "cell_type": "code",
      "metadata": {
        "id": "Z1jS5UGT_uDu"
      },
      "source": [
        ""
      ],
      "execution_count": null,
      "outputs": []
    }
  ]
}