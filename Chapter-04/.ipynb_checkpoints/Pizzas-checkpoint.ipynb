{
 "cells": [
  {
   "cell_type": "code",
   "execution_count": 11,
   "metadata": {},
   "outputs": [],
   "source": [
    "my_pizzas = ['Margherita-tomato sauce', 'Margherita mozzarella','Vegetariana mozzarella ' ,'Vegetariana mushrooms','Vegetariana onion','Vegetariana sweet corn ']\n",
    "friend_pizzas = my_pizzas[:]"
   ]
  },
  {
   "cell_type": "code",
   "execution_count": 12,
   "metadata": {},
   "outputs": [
    {
     "name": "stdout",
     "output_type": "stream",
     "text": [
      "['Margherita-tomato sauce', 'Margherita mozzarella', 'Vegetariana mozzarella ', 'Vegetariana mushrooms', 'Vegetariana onion', 'Vegetariana sweet corn ']\n"
     ]
    }
   ],
   "source": [
    "print(friend_pizzas)"
   ]
  },
  {
   "cell_type": "code",
   "execution_count": 13,
   "metadata": {},
   "outputs": [
    {
     "name": "stdout",
     "output_type": "stream",
     "text": [
      "['Margherita-tomato sauce', 'Margherita mozzarella', 'Vegetariana mozzarella ', 'Vegetariana mushrooms', 'Vegetariana onion', 'Vegetariana sweet corn ']\n"
     ]
    }
   ],
   "source": [
    " print(my_pizzas)"
   ]
  },
  {
   "cell_type": "code",
   "execution_count": 18,
   "metadata": {},
   "outputs": [],
   "source": [
    "my_pizzas.append('Calzone hams')\n",
    "my_pizzas.append('mozzarella di bufala')\n",
    "my_pizzas.append('Hawaii tomato sauce')\n",
    "my_pizzas.append('Hawaii mozzarella')"
   ]
  },
  {
   "cell_type": "code",
   "execution_count": 19,
   "metadata": {},
   "outputs": [],
   "source": [
    "friend_pizzas.append('Napolitana olives')\n",
    "friend_pizzas.append('Peperoni tomato sauce')\n",
    "friend_pizzas.append('Peperoni peperoni')\n",
    "friend_pizzas.append('Meat Feast tomato sauce')\n",
    "friend_pizzas.append('Mexicana')"
   ]
  },
  {
   "cell_type": "code",
   "execution_count": 20,
   "metadata": {},
   "outputs": [
    {
     "name": "stdout",
     "output_type": "stream",
     "text": [
      "\n",
      "My favorite pizzas are:\n",
      "\t\t\t\t Margherita-tomato sauce\n",
      "\t\t\t\t Margherita mozzarella\n",
      "\t\t\t\t Vegetariana mozzarella \n",
      "\t\t\t\t Vegetariana mushrooms\n",
      "\t\t\t\t Vegetariana onion\n",
      "\t\t\t\t Vegetariana sweet corn \n",
      "\t\t\t\t Calzone hams\n",
      "\t\t\t\t Calzone hams\n",
      "\t\t\t\t mozzarella di bufala\n",
      "\t\t\t\t Hawaii tomato sauce\n",
      "\t\t\t\t Hawaii mozzarella\n"
     ]
    }
   ],
   "source": [
    "print('\\nMy favorite pizzas are:')\n",
    "for my_pizza in my_pizzas:\n",
    "    print('\\t\\t\\t\\t',my_pizza)"
   ]
  },
  {
   "cell_type": "code",
   "execution_count": null,
   "metadata": {},
   "outputs": [],
   "source": []
  },
  {
   "cell_type": "code",
   "execution_count": 21,
   "metadata": {},
   "outputs": [
    {
     "name": "stdout",
     "output_type": "stream",
     "text": [
      "\n",
      "My friend’s favorite pizzas are:\n",
      "\t\t\t\t Margherita-tomato sauce\n",
      "\t\t\t\t Margherita mozzarella\n",
      "\t\t\t\t Vegetariana mozzarella \n",
      "\t\t\t\t Vegetariana mushrooms\n",
      "\t\t\t\t Vegetariana onion\n",
      "\t\t\t\t Vegetariana sweet corn \n",
      "\t\t\t\t Napolitana olives\n",
      "\t\t\t\t Napolitana olives\n",
      "\t\t\t\t Peperoni tomato sauce\n",
      "\t\t\t\t Peperoni peperoni\n",
      "\t\t\t\t Meat Feast tomato sauce\n",
      "\t\t\t\t Mexicana\n"
     ]
    }
   ],
   "source": [
    "print('\\nMy friend’s favorite pizzas are:')\n",
    "for pizza_friend in friend_pizzas:\n",
    "    print('\\t\\t\\t\\t',pizza_friend)"
   ]
  },
  {
   "cell_type": "code",
   "execution_count": null,
   "metadata": {},
   "outputs": [],
   "source": []
  }
 ],
 "metadata": {
  "kernelspec": {
   "display_name": "Python 3",
   "language": "python",
   "name": "python3"
  },
  "language_info": {
   "codemirror_mode": {
    "name": "ipython",
    "version": 3
   },
   "file_extension": ".py",
   "mimetype": "text/x-python",
   "name": "python",
   "nbconvert_exporter": "python",
   "pygments_lexer": "ipython3",
   "version": "3.7.3"
  }
 },
 "nbformat": 4,
 "nbformat_minor": 2
}
